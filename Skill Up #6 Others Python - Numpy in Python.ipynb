{
 "cells": [
  {
   "cell_type": "markdown",
   "id": "earned-renaissance",
   "metadata": {},
   "source": [
    "## *Shift Academy Data Science Bootcamp Batch 10 - Remake* ##"
   ]
  },
  {
   "cell_type": "markdown",
   "id": "disturbed-correction",
   "metadata": {},
   "source": [
    "### *Introduction to Numpy and Pandas* ###"
   ]
  },
  {
   "cell_type": "code",
   "execution_count": 1,
   "id": "extended-split",
   "metadata": {},
   "outputs": [],
   "source": [
    "import numpy as np\n",
    "import pandas as pd"
   ]
  },
  {
   "cell_type": "code",
   "execution_count": 2,
   "id": "artificial-georgia",
   "metadata": {},
   "outputs": [],
   "source": [
    "# Create list, array, dictionary and the label for creating series\n",
    "thelist = [4, 7, 3, 9, 1]\n",
    "array = np.array([4, 7, 3, 9, 1])\n",
    "label = ['First', 'Second', 'Third', 'Fourth', 'Fifth']\n",
    "dictionary = {'First': 4, 'Second': 7, 'Third': 3, 'Fourth': 9, 'Fifth': 1}\n",
    "\n",
    "thelistSeries = pd.Series(data=thelist, index=label)\n",
    "arraySeries = pd.Series(array, label)\n",
    "dictionarySeries = pd.Series(dictionary)"
   ]
  },
  {
   "cell_type": "code",
   "execution_count": 3,
   "id": "reflected-theory",
   "metadata": {},
   "outputs": [
    {
     "name": "stdout",
     "output_type": "stream",
     "text": [
      "First     4\n",
      "Second    7\n",
      "Third     3\n",
      "Fourth    9\n",
      "Fifth     1\n",
      "dtype: int64\n"
     ]
    }
   ],
   "source": [
    "print(thelistSeries)"
   ]
  },
  {
   "cell_type": "code",
   "execution_count": 4,
   "id": "great-malpractice",
   "metadata": {},
   "outputs": [
    {
     "data": {
      "text/plain": [
       "First     4\n",
       "Second    7\n",
       "Third     3\n",
       "Fourth    9\n",
       "Fifth     1\n",
       "dtype: int64"
      ]
     },
     "execution_count": 4,
     "metadata": {},
     "output_type": "execute_result"
    }
   ],
   "source": [
    "arraySeries"
   ]
  },
  {
   "cell_type": "code",
   "execution_count": 5,
   "id": "proud-peeing",
   "metadata": {},
   "outputs": [
    {
     "data": {
      "text/plain": [
       "First     4\n",
       "Second    7\n",
       "Third     3\n",
       "Fourth    9\n",
       "Fifth     1\n",
       "dtype: int64"
      ]
     },
     "execution_count": 5,
     "metadata": {},
     "output_type": "execute_result"
    }
   ],
   "source": [
    "dictionarySeries"
   ]
  },
  {
   "cell_type": "markdown",
   "id": "forced-liability",
   "metadata": {},
   "source": [
    "## *Woke Sip Mantap. Latihan terooos.*"
   ]
  },
  {
   "cell_type": "markdown",
   "id": "italic-uzbekistan",
   "metadata": {},
   "source": [
    "## *Numpy Array* ##"
   ]
  },
  {
   "cell_type": "code",
   "execution_count": 7,
   "id": "numerous-demonstration",
   "metadata": {},
   "outputs": [
    {
     "data": {
      "text/plain": [
       "array([7, 4, 8, 3, 6])"
      ]
     },
     "execution_count": 7,
     "metadata": {},
     "output_type": "execute_result"
    }
   ],
   "source": [
    "array = np.array([7, 4, 8, 3, 6])\n",
    "array"
   ]
  },
  {
   "cell_type": "code",
   "execution_count": 9,
   "id": "comparative-salem",
   "metadata": {},
   "outputs": [
    {
     "data": {
      "text/plain": [
       "numpy.ndarray"
      ]
     },
     "execution_count": 9,
     "metadata": {},
     "output_type": "execute_result"
    }
   ],
   "source": [
    "type(array)"
   ]
  },
  {
   "cell_type": "code",
   "execution_count": 10,
   "id": "consistent-surrey",
   "metadata": {},
   "outputs": [
    {
     "data": {
      "text/plain": [
       "dtype('int64')"
      ]
     },
     "execution_count": 10,
     "metadata": {},
     "output_type": "execute_result"
    }
   ],
   "source": [
    "array.dtype"
   ]
  },
  {
   "cell_type": "markdown",
   "id": "greek-prophet",
   "metadata": {},
   "source": [
    "## *Create array form list* ##"
   ]
  },
  {
   "cell_type": "code",
   "execution_count": 11,
   "id": "listed-sheriff",
   "metadata": {},
   "outputs": [
    {
     "data": {
      "text/plain": [
       "array([9, 5, 8, 6, 3])"
      ]
     },
     "execution_count": 11,
     "metadata": {},
     "output_type": "execute_result"
    }
   ],
   "source": [
    "alist = [9, 5, 8, 6, 3]\n",
    "anarray = np.array(alist)\n",
    "anarray"
   ]
  },
  {
   "cell_type": "markdown",
   "id": "altered-citizenship",
   "metadata": {},
   "source": [
    "## *Create array from matrix* ##"
   ]
  },
  {
   "cell_type": "code",
   "execution_count": 12,
   "id": "representative-engagement",
   "metadata": {},
   "outputs": [
    {
     "data": {
      "text/plain": [
       "array([[3, 8, 5],\n",
       "       [8, 5, 6],\n",
       "       [1, 4, 2]])"
      ]
     },
     "execution_count": 12,
     "metadata": {},
     "output_type": "execute_result"
    }
   ],
   "source": [
    "amatrix = [[3,8,5],[8,5,6],[1,4,2]]\n",
    "anarraymatrix = np.array(amatrix)\n",
    "anarraymatrix"
   ]
  },
  {
   "cell_type": "markdown",
   "id": "celtic-radical",
   "metadata": {},
   "source": [
    "## *Create array from zeros* ##"
   ]
  },
  {
   "cell_type": "code",
   "execution_count": 13,
   "id": "different-damage",
   "metadata": {},
   "outputs": [
    {
     "data": {
      "text/plain": [
       "array([0., 0., 0., 0., 0., 0., 0.])"
      ]
     },
     "execution_count": 13,
     "metadata": {},
     "output_type": "execute_result"
    }
   ],
   "source": [
    "np.zeros(7)"
   ]
  },
  {
   "cell_type": "markdown",
   "id": "willing-sally",
   "metadata": {},
   "source": [
    "## *Create array from ones*"
   ]
  },
  {
   "cell_type": "code",
   "execution_count": 15,
   "id": "promising-translation",
   "metadata": {},
   "outputs": [
    {
     "data": {
      "text/plain": [
       "array([1., 1., 1., 1.])"
      ]
     },
     "execution_count": 15,
     "metadata": {},
     "output_type": "execute_result"
    }
   ],
   "source": [
    "np.ones(4)"
   ]
  },
  {
   "cell_type": "code",
   "execution_count": 17,
   "id": "varied-squad",
   "metadata": {},
   "outputs": [
    {
     "data": {
      "text/plain": [
       "array([6., 6., 6., 6., 6.])"
      ]
     },
     "execution_count": 17,
     "metadata": {},
     "output_type": "execute_result"
    }
   ],
   "source": [
    "#ones with number 6\n",
    "np.ones(5) * 6"
   ]
  },
  {
   "cell_type": "markdown",
   "id": "moral-instrument",
   "metadata": {},
   "source": [
    "## *Create array with certain range* ##"
   ]
  },
  {
   "cell_type": "code",
   "execution_count": 18,
   "id": "black-wallace",
   "metadata": {},
   "outputs": [
    {
     "data": {
      "text/plain": [
       "array([ 0,  1,  2,  3,  4,  5,  6,  7,  8,  9, 10, 11, 12, 13, 14])"
      ]
     },
     "execution_count": 18,
     "metadata": {},
     "output_type": "execute_result"
    }
   ],
   "source": [
    "np.arange(15)\n",
    "# will be print array 0 - 14. 0 will be the first number, and 14 will be the last. 15 will be exclusive"
   ]
  },
  {
   "cell_type": "code",
   "execution_count": 20,
   "id": "dressed-forth",
   "metadata": {},
   "outputs": [
    {
     "data": {
      "text/plain": [
       "array([ 7,  8,  9, 10, 11, 12, 13, 14])"
      ]
     },
     "execution_count": 20,
     "metadata": {},
     "output_type": "execute_result"
    }
   ],
   "source": [
    "np.arange(7, 15)\n",
    "# will be print array 7 - 14. 7 will be the first number, and 14 will be the last. 15 will be exclusive"
   ]
  },
  {
   "cell_type": "code",
   "execution_count": 21,
   "id": "black-incentive",
   "metadata": {},
   "outputs": [
    {
     "data": {
      "text/plain": [
       "array([ 1,  3,  5,  7,  9, 11, 13])"
      ]
     },
     "execution_count": 21,
     "metadata": {},
     "output_type": "execute_result"
    }
   ],
   "source": [
    "np.arange(1, 15, 2)\n",
    "# will be print array 1 - 14 and will be jumped for 2 step. 1 will be the first number, and 14 will be the last. 15 will be exclusive"
   ]
  },
  {
   "cell_type": "markdown",
   "id": "split-messenger",
   "metadata": {},
   "source": [
    "## *Create array evently divided range* ##"
   ]
  },
  {
   "cell_type": "code",
   "execution_count": 31,
   "id": "fuzzy-dating",
   "metadata": {},
   "outputs": [
    {
     "data": {
      "text/plain": [
       "array([  0.,  25.,  50.,  75., 100.])"
      ]
     },
     "execution_count": 31,
     "metadata": {},
     "output_type": "execute_result"
    }
   ],
   "source": [
    "np.linspace(0, 100, 5)\n",
    "# will be print array from 0 - 100 evently divided to 5 number"
   ]
  },
  {
   "cell_type": "code",
   "execution_count": 38,
   "id": "prerequisite-florist",
   "metadata": {},
   "outputs": [
    {
     "data": {
      "text/plain": [
       "array([  0.,  10.,  20.,  30.,  40.,  50.,  60.,  70.,  80.,  90., 100.])"
      ]
     },
     "execution_count": 38,
     "metadata": {},
     "output_type": "execute_result"
    }
   ],
   "source": [
    "np.linspace(0, 100, 11)\n",
    "# will be print array from 0 - 100 evently divided to 11 number"
   ]
  },
  {
   "cell_type": "markdown",
   "id": "laden-oakland",
   "metadata": {},
   "source": [
    "## *Specifying Datatypes* ##"
   ]
  },
  {
   "cell_type": "code",
   "execution_count": 43,
   "id": "regulation-wayne",
   "metadata": {},
   "outputs": [
    {
     "data": {
      "text/plain": [
       "array([  0,  10,  20,  30,  40,  50,  60,  70,  80,  90, 100])"
      ]
     },
     "execution_count": 43,
     "metadata": {},
     "output_type": "execute_result"
    }
   ],
   "source": [
    "np.linspace(0, 100, 11, dtype = 'int64')\n",
    "# will be print array from 0 - 100 evently divided to 11 number"
   ]
  },
  {
   "cell_type": "markdown",
   "id": "homeless-check",
   "metadata": {},
   "source": [
    "## *Random Normal Distribution* ##"
   ]
  },
  {
   "cell_type": "code",
   "execution_count": 50,
   "id": "external-benefit",
   "metadata": {},
   "outputs": [
    {
     "data": {
      "text/plain": [
       "array([[ 0.99166832, -0.40808867, -1.08104591,  1.01594933],\n",
       "       [-0.23592164,  0.35560776,  1.69119815,  0.0522259 ],\n",
       "       [ 0.89264053,  1.36127886, -0.60013366,  0.93225681],\n",
       "       [-1.68922604,  0.97140287,  1.05658432, -0.05784414]])"
      ]
     },
     "execution_count": 50,
     "metadata": {},
     "output_type": "execute_result"
    }
   ],
   "source": [
    "np.random.randn(4, 4)"
   ]
  },
  {
   "cell_type": "markdown",
   "id": "ranging-bikini",
   "metadata": {},
   "source": [
    "## *Random Interger* ##"
   ]
  },
  {
   "cell_type": "code",
   "execution_count": 52,
   "id": "round-compact",
   "metadata": {},
   "outputs": [
    {
     "data": {
      "text/plain": [
       "array([[43, 47, 23, 28],\n",
       "       [12, 46, 41, 32],\n",
       "       [ 9,  8, 40, 44]])"
      ]
     },
     "execution_count": 52,
     "metadata": {},
     "output_type": "execute_result"
    }
   ],
   "source": [
    "np.random.randint(5, 50, [3, 4]) \n",
    "#low (inclusive) #high (exclusive) #range"
   ]
  },
  {
   "cell_type": "markdown",
   "id": "appointed-chamber",
   "metadata": {},
   "source": [
    "## *Look For* ##"
   ]
  },
  {
   "cell_type": "code",
   "execution_count": 53,
   "id": "blocked-reform",
   "metadata": {},
   "outputs": [
    {
     "name": "stdout",
     "output_type": "stream",
     "text": [
      "Search results for 'random'\n",
      "---------------------------\n",
      "numpy.random.ranf\n",
      "    This is an alias of `random_sample`. See `random_sample`  for the complete\n",
      "numpy.random.PCG64\n",
      "    BitGenerator for the PCG-64 pseudo-random number generator.\n",
      "numpy.random.Philox\n",
      "    Container for the Philox (4x64) pseudo-random number generator.\n",
      "numpy.random.sample\n",
      "    This is an alias of `random_sample`. See `random_sample`  for the complete\n",
      "numpy.random.MT19937\n",
      "    Container for the Mersenne Twister pseudo-random number generator.\n",
      "numpy.matlib.rand\n",
      "    Return a matrix of random values with given shape.\n",
      "numpy.matlib.randn\n",
      "    Return a random matrix with data from the \"standard normal\" distribution.\n",
      "numpy.random.RandomState\n",
      "    Container for the slow Mersenne Twister pseudo-random number generator.\n",
      "numpy.random.Generator.bytes\n",
      "    bytes(length)\n",
      "numpy.random.Generator.choice\n",
      "    Generates a random sample from a given 1-D array\n",
      "numpy.random.Generator.normal\n",
      "    Draw random samples from a normal (Gaussian) distribution.\n",
      "numpy.random.Generator.random\n",
      "    Return random floats in the half-open interval [0.0, 1.0).\n",
      "numpy.random.RandomState.rand\n",
      "    Random values in a given shape.\n",
      "numpy.random.RandomState.bytes\n",
      "    bytes(length)\n",
      "numpy.random.Generator.integers\n",
      "    Return random integers from `low` (inclusive) to `high` (exclusive), or\n",
      "numpy.random.RandomState.choice\n",
      "    Generates a random sample from a given 1-D array\n",
      "numpy.random.RandomState.normal\n",
      "    Draw random samples from a normal (Gaussian) distribution.\n",
      "numpy.random.RandomState.random\n",
      "    Return random floats in the half-open interval [0.0, 1.0). Alias for\n",
      "numpy.random.RandomState.randint\n",
      "    Return random integers from `low` (inclusive) to `high` (exclusive).\n",
      "numpy.random.RandomState.tomaxint\n",
      "    Return a sample of uniformly distributed random integers in the interval\n",
      "numpy.random.Generator.permutation\n",
      "    Randomly permute a sequence, or return a permuted range.\n",
      "numpy.random.BitGenerator.random_raw\n",
      "    Return randoms as generated by the underlying BitGenerator\n",
      "numpy.random.RandomState.permutation\n",
      "    permutation(x)\n",
      "numpy.random.RandomState.random_sample\n",
      "    Return random floats in the half-open interval [0.0, 1.0).\n",
      "numpy.random._pickle.__randomstate_ctor\n",
      "    Pickling helper function that returns a legacy RandomState-like object\n",
      "numpy.random.RandomState.random_integers\n",
      "    Random integers of type `np.int_` between `low` and `high`, inclusive.\n",
      "numpy.random.Generator.multivariate_normal\n",
      "    Draw random samples from a multivariate normal distribution.\n",
      "numpy.flip\n",
      "    Reverse the order of elements in an array along the given axis.\n",
      "numpy.poly\n",
      "    Find the coefficients of a polynomial with the given sequence of roots.\n",
      "numpy.sort\n",
      "    Return a sorted copy of an array.\n",
      "numpy.stack\n",
      "    Join a sequence of arrays along a new axis.\n",
      "numpy.random.RandomState.multivariate_normal\n",
      "    Draw random samples from a multivariate normal distribution.\n",
      "numpy.fliplr\n",
      "    Flip array in the left/right direction.\n",
      "numpy.flipud\n",
      "    Flip array in the up/down direction.\n",
      "numpy.ndarray\n",
      "    ndarray(shape, dtype=float, buffer=None, offset=0,\n",
      "numpy.convolve\n",
      "    Returns the discrete, linear convolution of two one-dimensional sequences.\n",
      "numpy.histogram\n",
      "    Compute the histogram of a set of data.\n",
      "numpy.einsum_path\n",
      "    Evaluates the lowest cost contraction order for an einsum expression by\n",
      "numpy.histogram2d\n",
      "    Compute the bi-dimensional histogram of two data samples.\n",
      "numpy.histogramdd\n",
      "    Compute the multidimensional histogram of some data.\n",
      "numpy.random.SFC64\n",
      "    BitGenerator for Chris Doty-Humphrey's Small Fast Chaotic PRNG.\n",
      "numpy.fft.fftn\n",
      "    Compute the N-dimensional discrete Fourier Transform.\n",
      "numpy.fft.ifft\n",
      "    Compute the one-dimensional inverse discrete Fourier Transform.\n",
      "numpy.fft.ifftn\n",
      "    Compute the N-dimensional inverse discrete Fourier Transform.\n",
      "numpy.ma.stack\n",
      "    Join a sequence of arrays along a new axis.\n",
      "numpy.linalg.qr\n",
      "    Compute the qr factorization of a matrix.\n",
      "numpy.linalg.svd\n",
      "    Singular Value Decomposition.\n",
      "numpy.random.Generator\n",
      "    Generator(bit_generator)\n",
      "numpy.linalg.pinv\n",
      "    Compute the (Moore-Penrose) pseudo-inverse of a matrix.\n",
      "numpy.savez_compressed\n",
      "    Save several arrays into a single file in compressed ``.npz`` format.\n",
      "numpy.chararray.item\n",
      "    a.item(*args)\n",
      "numpy.matlib.empty\n",
      "    Return a new matrix of given shape and type, without initializing entries.\n",
      "numpy.random.BitGenerator\n",
      "    Base Class for generic BitGenerators, which provide a stream\n",
      "numpy.linalg.eigvals\n",
      "    Compute the eigenvalues of a general matrix.\n",
      "numpy.random.SeedSequence\n",
      "    SeedSequence mixes sources of entropy in a reproducible way to set the\n",
      "numpy.set_string_function\n",
      "    Set a Python function to be used when pretty printing arrays.\n",
      "numpy.chararray.itemset\n",
      "    a.itemset(*args)\n",
      "numpy.linalg.multi_dot\n",
      "    Compute the dot product of two or more arrays in a single function call,\n",
      "numpy.linalg.tensorinv\n",
      "    Compute the 'inverse' of an N-dimensional array.\n",
      "numpy.random.tests.test_random.TestRandint.rfunc\n",
      "    Return random integers from `low` (inclusive) to `high` (exclusive).\n",
      "numpy.linalg.tensorsolve\n",
      "    Solve the tensor equation ``a x = b`` for x.\n",
      "numpy.distutils.read_config\n",
      "    Return library info for a package from its configuration file.\n",
      "numpy.random.Generator.f\n",
      "    Draw samples from an F distribution.\n",
      "numpy.testing.tests.test_doctesting.check_random_directive\n",
      "    >>> 2+2\n",
      "numpy.random.PCG64.jumped\n",
      "    Returns a new bit generator with the state jumped.\n",
      "numpy.random.PCG64.advance\n",
      "    advance(delta)\n",
      "numpy.random.Philox.jumped\n",
      "    Returns a new bit generator with the state jumped\n",
      "numpy.random.RandomState.f\n",
      "    Draw samples from an F distribution.\n",
      "numpy.random.Generator.wald\n",
      "    Draw samples from a Wald, or inverse Gaussian, distribution.\n",
      "numpy.random.Generator.zipf\n",
      "    Draw samples from a Zipf distribution.\n",
      "numpy.random.MT19937.jumped\n",
      "    Returns a new bit generator with the state jumped\n",
      "numpy.random.Philox.advance\n",
      "    advance(delta)\n",
      "numpy.random.Generator.gamma\n",
      "    Draw samples from a Gamma distribution.\n",
      "numpy.random.Generator.power\n",
      "    Draws samples in [0, 1] from a power distribution with positive\n",
      "numpy.random.Generator.gumbel\n",
      "    Draw samples from a Gumbel distribution.\n",
      "numpy.random.Generator.pareto\n",
      "    Draw samples from a Pareto II or Lomax distribution with\n",
      "numpy.random.RandomState.beta\n",
      "    Draw samples from a Beta distribution.\n",
      "numpy.random.RandomState.seed\n",
      "    Reseed a legacy MT19937 BitGenerator\n",
      "numpy.random.RandomState.wald\n",
      "    Draw samples from a Wald, or inverse Gaussian, distribution.\n",
      "numpy.random.RandomState.zipf\n",
      "    Draw samples from a Zipf distribution.\n",
      "numpy.random.Generator.laplace\n",
      "    Draw samples from the Laplace or double exponential distribution with\n",
      "numpy.random.Generator.poisson\n",
      "    Draw samples from a Poisson distribution.\n",
      "numpy.random.Generator.shuffle\n",
      "    Modify a sequence in-place by shuffling its contents.\n",
      "numpy.random.Generator.uniform\n",
      "    Draw samples from a uniform distribution.\n",
      "numpy.random.Generator.weibull\n",
      "    Draw samples from a Weibull distribution.\n",
      "numpy.random.RandomState.gamma\n",
      "    Draw samples from a Gamma distribution.\n",
      "numpy.random.RandomState.power\n",
      "    Draws samples in [0, 1] from a power distribution with positive\n",
      "numpy.random.RandomState.randn\n",
      "    Return a sample (or samples) from the \"standard normal\" distribution.\n",
      "numpy.random.Generator.binomial\n",
      "    Draw samples from a binomial distribution.\n",
      "numpy.random.Generator.logistic\n",
      "    Draw samples from a logistic distribution.\n",
      "numpy.random.Generator.rayleigh\n",
      "    Draw samples from a Rayleigh distribution.\n",
      "numpy.random.Generator.vonmises\n",
      "    Draw samples from a von Mises distribution.\n",
      "numpy.random.RandomState.gumbel\n",
      "    Draw samples from a Gumbel distribution.\n",
      "numpy.random.RandomState.pareto\n",
      "    Draw samples from a Pareto II or Lomax distribution with\n",
      "numpy.random.Generator.chisquare\n",
      "    Draw samples from a chi-square distribution.\n",
      "numpy.random.Generator.dirichlet\n",
      "    Draw samples from the Dirichlet distribution.\n",
      "numpy.random.Generator.geometric\n",
      "    Draw samples from the geometric distribution.\n",
      "numpy.random.Generator.lognormal\n",
      "    Draw samples from a log-normal distribution.\n",
      "numpy.random.Generator.logseries\n",
      "    Draw samples from a logarithmic series distribution.\n",
      "numpy.random.RandomState.laplace\n",
      "    Draw samples from the Laplace or double exponential distribution with\n",
      "numpy.random.RandomState.poisson\n",
      "    Draw samples from a Poisson distribution.\n",
      "numpy.random.RandomState.shuffle\n",
      "    shuffle(x)\n",
      "numpy.random.RandomState.uniform\n",
      "    Draw samples from a uniform distribution.\n",
      "numpy.random.RandomState.weibull\n",
      "    Draw samples from a Weibull distribution.\n",
      "numpy.random.Generator.standard_t\n",
      "    Draw samples from a standard Student's t distribution with `df` degrees\n",
      "numpy.random.Generator.triangular\n",
      "    Draw samples from the triangular distribution over the\n",
      "numpy.random.RandomState.binomial\n",
      "    Draw samples from a binomial distribution.\n",
      "numpy.random.RandomState.logistic\n",
      "    Draw samples from a logistic distribution.\n",
      "numpy.random.RandomState.rayleigh\n",
      "    Draw samples from a Rayleigh distribution.\n",
      "numpy.random.RandomState.vonmises\n",
      "    Draw samples from a von Mises distribution.\n",
      "numpy.random.Generator.exponential\n",
      "    Draw samples from an exponential distribution.\n",
      "numpy.random.Generator.multinomial\n",
      "    Draw samples from a multinomial distribution.\n",
      "numpy.random.RandomState.chisquare\n",
      "    Draw samples from a chi-square distribution.\n",
      "numpy.random.RandomState.dirichlet\n",
      "    Draw samples from the Dirichlet distribution.\n",
      "numpy.random.RandomState.geometric\n",
      "    Draw samples from the geometric distribution.\n",
      "numpy.random.RandomState.get_state\n",
      "    get_state()\n",
      "numpy.random.RandomState.lognormal\n",
      "    Draw samples from a log-normal distribution.\n",
      "numpy.random.RandomState.logseries\n",
      "    Draw samples from a logarithmic series distribution.\n",
      "numpy.random.RandomState.set_state\n",
      "    set_state(state)\n",
      "numpy.polynomial.Hermite._fit\n",
      "    Least squares fit of Hermite series to data.\n",
      "numpy.random.Generator.noncentral_f\n",
      "    Draw samples from the noncentral F distribution.\n",
      "numpy.random.RandomState.standard_t\n",
      "    Draw samples from a standard Student's t distribution with `df` degrees\n",
      "numpy.random.RandomState.triangular\n",
      "    Draw samples from the triangular distribution over the\n",
      "numpy.polynomial.HermiteE._fit\n",
      "    Least squares fit of Hermite series to data.\n",
      "numpy.polynomial.Laguerre._fit\n",
      "    Least squares fit of Laguerre series to data.\n",
      "numpy.random.MT19937._legacy_seeding\n",
      "    _legacy_seeding(seed)\n",
      "numpy.random.RandomState.exponential\n",
      "    Draw samples from an exponential distribution.\n",
      "numpy.random.RandomState.multinomial\n",
      "    Draw samples from a multinomial distribution.\n",
      "numpy.random.Generator.hypergeometric\n",
      "    Draw samples from a Hypergeometric distribution.\n",
      "numpy.random.Generator.standard_gamma\n",
      "    Draw samples from a standard Gamma distribution.\n",
      "numpy.random.RandomState.noncentral_f\n",
      "    Draw samples from the noncentral F distribution.\n",
      "numpy.polynomial.Polynomial._fit\n",
      "    Least-squares fit of a polynomial to data.\n",
      "numpy.random.Generator.standard_cauchy\n",
      "    Draw samples from a standard Cauchy distribution with mode = 0.\n",
      "numpy.random.Generator.standard_normal\n",
      "    Draw samples from a standard Normal distribution (mean=0, stdev=1).\n",
      "numpy.random.RandomState.hypergeometric\n",
      "    Draw samples from a Hypergeometric distribution.\n",
      "numpy.random.RandomState.standard_gamma\n",
      "    Draw samples from a standard Gamma distribution.\n",
      "numpy.random.Generator.negative_binomial\n",
      "    Draw samples from a negative binomial distribution.\n",
      "numpy.random.RandomState.standard_cauchy\n",
      "    Draw samples from a standard Cauchy distribution with mode = 0.\n",
      "numpy.random.RandomState.standard_normal\n",
      "    Draw samples from a standard Normal distribution (mean=0, stdev=1).\n",
      "numpy.random.RandomState.negative_binomial\n",
      "    Draw samples from a negative binomial distribution.\n",
      "numpy.random.Generator.noncentral_chisquare\n",
      "    Draw samples from a noncentral chi-square distribution.\n",
      "numpy.random.Generator.standard_exponential\n",
      "    Draw samples from the standard exponential distribution.\n",
      "numpy.random.RandomState.noncentral_chisquare\n",
      "    Draw samples from a noncentral chi-square distribution.\n",
      "numpy.random.RandomState.standard_exponential\n",
      "    Draw samples from the standard exponential distribution.\n",
      "numpy.random.Generator.multivariate_hypergeometric\n",
      "    multivariate_hypergeometric(colors, nsample, size=None,\n",
      "numpy.ma.tests.test_subclassing.SubArray\n",
      "    ndarray(shape, dtype=float, buffer=None, offset=0,\n",
      "numpy.lib.tests.test_stride_tricks.SimpleSubClass\n",
      "    ndarray(shape, dtype=float, buffer=None, offset=0,\n",
      "numpy.core.tests.test_function_base.PhysicalQuantity2\n",
      "    ndarray(shape, dtype=float, buffer=None, offset=0,\n",
      "numpy.ma.tests.test_subclassing.ComplicatedSubArray\n",
      "    ndarray(shape, dtype=float, buffer=None, offset=0,\n",
      "numpy.lib.tests.test_stride_tricks.VerySimpleSubClass\n",
      "    ndarray(shape, dtype=float, buffer=None, offset=0,"
     ]
    }
   ],
   "source": [
    "np.lookfor('random')"
   ]
  },
  {
   "cell_type": "markdown",
   "id": "private-oxford",
   "metadata": {},
   "source": [
    "## *Array Statistic Attribute (random)* ##"
   ]
  },
  {
   "cell_type": "code",
   "execution_count": 64,
   "id": "original-school",
   "metadata": {},
   "outputs": [
    {
     "data": {
      "text/plain": [
       "array([96, 46, 65, 60, 30, 28, 68, 49, 55,  2, 28, 18, 77, 17, 46, 11, 37,\n",
       "       90,  0, 30, 58, 38, 78, 69, 17])"
      ]
     },
     "execution_count": 64,
     "metadata": {},
     "output_type": "execute_result"
    }
   ],
   "source": [
    "arrayrandom = np.random.randint(0, 100, 25)\n",
    "arrayrandom"
   ]
  },
  {
   "cell_type": "code",
   "execution_count": 67,
   "id": "genuine-electronics",
   "metadata": {},
   "outputs": [
    {
     "data": {
      "text/plain": [
       "1113"
      ]
     },
     "execution_count": 67,
     "metadata": {},
     "output_type": "execute_result"
    }
   ],
   "source": [
    "arrayrandom.sum()"
   ]
  },
  {
   "cell_type": "code",
   "execution_count": 68,
   "id": "atlantic-winner",
   "metadata": {},
   "outputs": [
    {
     "data": {
      "text/plain": [
       "0"
      ]
     },
     "execution_count": 68,
     "metadata": {},
     "output_type": "execute_result"
    }
   ],
   "source": [
    "arrayrandom.min()"
   ]
  },
  {
   "cell_type": "code",
   "execution_count": 69,
   "id": "native-democrat",
   "metadata": {},
   "outputs": [
    {
     "data": {
      "text/plain": [
       "96"
      ]
     },
     "execution_count": 69,
     "metadata": {},
     "output_type": "execute_result"
    }
   ],
   "source": [
    "arrayrandom.max()"
   ]
  },
  {
   "cell_type": "code",
   "execution_count": 70,
   "id": "adult-paste",
   "metadata": {},
   "outputs": [
    {
     "data": {
      "text/plain": [
       "44.52"
      ]
     },
     "execution_count": 70,
     "metadata": {},
     "output_type": "execute_result"
    }
   ],
   "source": [
    "arrayrandom.mean()"
   ]
  },
  {
   "cell_type": "markdown",
   "id": "unlike-quarterly",
   "metadata": {},
   "source": [
    "## *Numpy Attributes* ##\n",
    "Shape\n",
    "Reshape\n",
    "Size"
   ]
  },
  {
   "cell_type": "code",
   "execution_count": 72,
   "id": "configured-virgin",
   "metadata": {},
   "outputs": [
    {
     "data": {
      "text/plain": [
       "(25,)"
      ]
     },
     "execution_count": 72,
     "metadata": {},
     "output_type": "execute_result"
    }
   ],
   "source": [
    "arrayrandom.shape"
   ]
  },
  {
   "cell_type": "code",
   "execution_count": 73,
   "id": "theoretical-shelter",
   "metadata": {},
   "outputs": [
    {
     "data": {
      "text/plain": [
       "25"
      ]
     },
     "execution_count": 73,
     "metadata": {},
     "output_type": "execute_result"
    }
   ],
   "source": [
    "arrayrandom.size"
   ]
  },
  {
   "cell_type": "code",
   "execution_count": 79,
   "id": "arabic-surgery",
   "metadata": {},
   "outputs": [
    {
     "ename": "ValueError",
     "evalue": "cannot reshape array of size 25 into shape (0,100)",
     "output_type": "error",
     "traceback": [
      "\u001b[0;31m---------------------------------------------------------------------------\u001b[0m",
      "\u001b[0;31mValueError\u001b[0m                                Traceback (most recent call last)",
      "\u001b[0;32m<ipython-input-79-fff023946c93>\u001b[0m in \u001b[0;36m<module>\u001b[0;34m\u001b[0m\n\u001b[0;32m----> 1\u001b[0;31m \u001b[0mreshaped\u001b[0m \u001b[0;34m=\u001b[0m \u001b[0marrayrandom\u001b[0m\u001b[0;34m.\u001b[0m\u001b[0mreshape\u001b[0m\u001b[0;34m(\u001b[0m\u001b[0;36m0\u001b[0m\u001b[0;34m,\u001b[0m \u001b[0;36m100\u001b[0m\u001b[0;34m)\u001b[0m\u001b[0;34m\u001b[0m\u001b[0;34m\u001b[0m\u001b[0m\n\u001b[0m\u001b[1;32m      2\u001b[0m \u001b[0mreshaped\u001b[0m\u001b[0;34m\u001b[0m\u001b[0;34m\u001b[0m\u001b[0m\n",
      "\u001b[0;31mValueError\u001b[0m: cannot reshape array of size 25 into shape (0,100)"
     ]
    }
   ],
   "source": [
    "reshaped = arrayrandom.reshape(0, 100)\n",
    "reshaped"
   ]
  },
  {
   "cell_type": "code",
   "execution_count": 80,
   "id": "polyphonic-investment",
   "metadata": {},
   "outputs": [
    {
     "ename": "NameError",
     "evalue": "name 'reshaped' is not defined",
     "output_type": "error",
     "traceback": [
      "\u001b[0;31m---------------------------------------------------------------------------\u001b[0m",
      "\u001b[0;31mNameError\u001b[0m                                 Traceback (most recent call last)",
      "\u001b[0;32m<ipython-input-80-30c507f87011>\u001b[0m in \u001b[0;36m<module>\u001b[0;34m\u001b[0m\n\u001b[0;32m----> 1\u001b[0;31m \u001b[0mreshaped\u001b[0m\u001b[0;34m.\u001b[0m\u001b[0mshape\u001b[0m\u001b[0;34m\u001b[0m\u001b[0;34m\u001b[0m\u001b[0m\n\u001b[0m",
      "\u001b[0;31mNameError\u001b[0m: name 'reshaped' is not defined"
     ]
    }
   ],
   "source": [
    "reshaped.shape"
   ]
  },
  {
   "cell_type": "markdown",
   "id": "novel-chuck",
   "metadata": {},
   "source": [
    "## *Indexing and Slicing Array with Condition*"
   ]
  },
  {
   "cell_type": "code",
   "execution_count": 82,
   "id": "hired-basis",
   "metadata": {},
   "outputs": [],
   "source": [
    "arrayindex = np.array([[1, 2, 3, 4, 5],[6, 7, 8, 9, 10],[11, 12, 13, 14, 15],[16, 17, 18, 19, 20],[21, 22, 23, 24, 25]])"
   ]
  },
  {
   "cell_type": "code",
   "execution_count": 83,
   "id": "processed-destruction",
   "metadata": {},
   "outputs": [
    {
     "name": "stdout",
     "output_type": "stream",
     "text": [
      "[16 17 18 19 20 21 22 23 24 25]\n"
     ]
    }
   ],
   "source": [
    "print(arrayindex[arrayindex > 15])"
   ]
  },
  {
   "cell_type": "code",
   "execution_count": 84,
   "id": "reduced-gross",
   "metadata": {},
   "outputs": [
    {
     "name": "stdout",
     "output_type": "stream",
     "text": [
      "[ 1  2  3  4  5  6  7  8  9 10]\n"
     ]
    }
   ],
   "source": [
    "under_until_ten = (arrayindex <= 10)\n",
    "print(arrayindex[under_until_ten])"
   ]
  },
  {
   "cell_type": "code",
   "execution_count": 86,
   "id": "laughing-guinea",
   "metadata": {},
   "outputs": [
    {
     "name": "stdout",
     "output_type": "stream",
     "text": [
      "[ 5 10 15 20 25]\n"
     ]
    }
   ],
   "source": [
    "divisible_by_5 = arrayindex[arrayindex % 5 == 0]\n",
    "print(divisible_by_5)"
   ]
  },
  {
   "cell_type": "markdown",
   "id": "hollywood-economics",
   "metadata": {},
   "source": [
    "## *Create array from existing data* ##"
   ]
  },
  {
   "cell_type": "code",
   "execution_count": 88,
   "id": "physical-modification",
   "metadata": {},
   "outputs": [
    {
     "data": {
      "text/plain": [
       "[1, 2, 3, 4, 5, 6, 7, 8, 9, 10]"
      ]
     },
     "execution_count": 88,
     "metadata": {},
     "output_type": "execute_result"
    }
   ],
   "source": [
    "arrayexist = ([1, 2, 3, 4, 5, 6, 7, 8, 9, 10])\n",
    "arrayexist"
   ]
  },
  {
   "cell_type": "code",
   "execution_count": 98,
   "id": "found-intellectual",
   "metadata": {},
   "outputs": [
    {
     "data": {
      "text/plain": [
       "[2, 3]"
      ]
     },
     "execution_count": 98,
     "metadata": {},
     "output_type": "execute_result"
    }
   ],
   "source": [
    "array1 = arrayexist[1:3] #start 2 #until number 3\n",
    "array1"
   ]
  },
  {
   "cell_type": "code",
   "execution_count": 97,
   "id": "cloudy-canvas",
   "metadata": {},
   "outputs": [
    {
     "data": {
      "text/plain": [
       "[3, 4, 5, 6, 7, 8, 9]"
      ]
     },
     "execution_count": 97,
     "metadata": {},
     "output_type": "execute_result"
    }
   ],
   "source": [
    "array1 = arrayexist[2:9] #start 3 #until number 9\n",
    "array1"
   ]
  },
  {
   "cell_type": "code",
   "execution_count": 99,
   "id": "limited-requirement",
   "metadata": {},
   "outputs": [
    {
     "data": {
      "text/plain": [
       "[3, 6, 9]"
      ]
     },
     "execution_count": 99,
     "metadata": {},
     "output_type": "execute_result"
    }
   ],
   "source": [
    "array1 = arrayexist[2:9:3] #start 3 #until number 9 #jump 3 step\n",
    "array1"
   ]
  },
  {
   "cell_type": "markdown",
   "id": "intelligent-tuition",
   "metadata": {},
   "source": [
    "## *Vstack Hstack*"
   ]
  },
  {
   "cell_type": "code",
   "execution_count": 101,
   "id": "enhanced-contamination",
   "metadata": {},
   "outputs": [],
   "source": [
    "stack1 = ([[1, 1, 1],\n",
    "           [2, 2, 2],\n",
    "          [3, 3, 3]])\n",
    "stack2 = ([[4, 4, 4],\n",
    "           [5, 5, 5],\n",
    "          [6, 6, 6]])"
   ]
  },
  {
   "cell_type": "code",
   "execution_count": 104,
   "id": "executive-bandwidth",
   "metadata": {},
   "outputs": [
    {
     "data": {
      "text/plain": [
       "array([[1, 1, 1],\n",
       "       [2, 2, 2],\n",
       "       [3, 3, 3],\n",
       "       [4, 4, 4],\n",
       "       [5, 5, 5],\n",
       "       [6, 6, 6]])"
      ]
     },
     "execution_count": 104,
     "metadata": {},
     "output_type": "execute_result"
    }
   ],
   "source": [
    "#Vstack\n",
    "np.vstack((stack1, stack2))"
   ]
  },
  {
   "cell_type": "code",
   "execution_count": 105,
   "id": "third-classroom",
   "metadata": {},
   "outputs": [
    {
     "data": {
      "text/plain": [
       "array([[1, 1, 1, 4, 4, 4],\n",
       "       [2, 2, 2, 5, 5, 5],\n",
       "       [3, 3, 3, 6, 6, 6]])"
      ]
     },
     "execution_count": 105,
     "metadata": {},
     "output_type": "execute_result"
    }
   ],
   "source": [
    "#Hstack\n",
    "np.hstack((stack1, stack2))"
   ]
  },
  {
   "cell_type": "code",
   "execution_count": null,
   "id": "freelance-daniel",
   "metadata": {},
   "outputs": [],
   "source": []
  }
 ],
 "metadata": {
  "kernelspec": {
   "display_name": "Python 3",
   "language": "python",
   "name": "python3"
  },
  "language_info": {
   "codemirror_mode": {
    "name": "ipython",
    "version": 3
   },
   "file_extension": ".py",
   "mimetype": "text/x-python",
   "name": "python",
   "nbconvert_exporter": "python",
   "pygments_lexer": "ipython3",
   "version": "3.8.3"
  }
 },
 "nbformat": 4,
 "nbformat_minor": 5
}
